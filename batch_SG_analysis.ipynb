{
 "cells": [
  {
   "cell_type": "markdown",
   "metadata": {},
   "source": [
    "A class to allow global analysis of stress granules labeled with Riboglow."
   ]
  },
  {
   "cell_type": "code",
   "execution_count": 2,
   "metadata": {},
   "outputs": [],
   "source": [
    "%matplotlib inline"
   ]
  },
  {
   "cell_type": "code",
   "execution_count": 6,
   "metadata": {},
   "outputs": [
    {
     "name": "stdout",
     "output_type": "stream",
     "text": [
      "Overwriting batch_SG_analysis.py\n"
     ]
    }
   ],
   "source": [
    "%%writefile SgFinder.py\n",
    "\n",
    "from nd2reader import ND2Reader\n",
    "from ipywidgets import interact, widgets\n",
    "import matplotlib.pyplot as plt\n",
    "from scipy import ndimage as ndi\n",
    "import numpy as np\n",
    "import seaborn as sn\n",
    "import sys\n",
    "from tifffile import TiffFile\n",
    "\n",
    "class SgFinder:\n",
    "    def __init__(self, im_path, rG_background, haloTag_channel=2, rG_channel=1):\n",
    "        if im_path[-4:] == '.nd2':\n",
    "            self.image = []\n",
    "            with ND2Reader(im_path) as nd2:\n",
    "                for channel in range(3):\n",
    "                    self.image.append(nd2[channel])\n",
    "        elif im_path[-4:] == '.tif':\n",
    "            with TiffFile(im_path) as tif:\n",
    "                self.image = tif.asarray()\n",
    "        else:\n",
    "            print(\"check yo extension. I found '{}'. I can only use '.nd2' or '.tif'.\".format(im_path[-4:]))\n",
    "        self.haloTag_channel = haloTag_channel\n",
    "        self.rG_channel = rG_channel\n",
    "        self.rG_background = rG_background\n",
    "        self.haloTag_threshold = None\n",
    "        self.granule_count = None\n",
    "        self.granule_mask = None\n",
    "        self.ratios = []\n",
    "    \n",
    "    def median_filter(self, pixels):\n",
    "        for channel in range(3):\n",
    "            self.image[channel] = ndi.median_filter(self.image[channel], size=pixels)\n",
    "    \n",
    "    def setHaloThreshold(self, threshold=None, slider_range=(0,3000)):\n",
    "        \n",
    "        def t(threshold_value):\n",
    "            t_img = self.image[self.haloTag_channel] > threshold_value\n",
    "            fig, ax = plt.subplots(ncols=2,figsize=(10, 10))\n",
    "            ax[0].imshow(self.image[self.haloTag_channel])\n",
    "            ax[1].imshow(t_img)\n",
    "            #plt.imshow(t_img)\n",
    "            plt.show()\n",
    "            labeled_sg, count = ndi.label(self.image[self.haloTag_channel]>threshold_value)\n",
    "            print(\"found {}\".format(count))\n",
    "            self.haloTag_threshold = threshold_value\n",
    "            self.granule_count = count\n",
    "            self.granule_mask = labeled_sg\n",
    "            \n",
    "        if threshold is not None:\n",
    "            self.haloTag_threshold = threshold\n",
    "            slider_value = threshold\n",
    "            t(threshold)\n",
    "        else:\n",
    "            slider_value = 0\n",
    "#         def t(threshold_value):\n",
    "#             t_img = self.image[self.haloTag_channel] > threshold_value\n",
    "#             fig, ax = plt.subplots(figsize=(10, 10))\n",
    "#             ax.imshow(t_img)\n",
    "#             #plt.imshow(t_img)\n",
    "#             plt.show()\n",
    "#             labeled_sg, count = ndi.label(self.image[self.haloTag_channel]>threshold_value)\n",
    "#             print(\"found {}\".format(count))\n",
    "#             self.haloTag_threshold = threshold_value\n",
    "#             self.granule_count = count\n",
    "#             self.granule_mask = labeled_sg\n",
    "\n",
    "            slider = widgets.IntSlider(min=slider_range[0], max=slider_range[1], step=10, value=slider_value)\n",
    "            interact(t, threshold_value=slider)\n",
    "        \n",
    "    def dilate_and_ratio(self, iterations=3, sig_noise_requirement=3):\n",
    "        self.ratios = []\n",
    "        for label in range(1,self.granule_count):\n",
    "            print(\"completed {} of {}\".format(label, self.granule_count), end=\"\\r\")\n",
    "            mask = self.granule_mask==label\n",
    "            rg_sg_mask = np.ma.array(self.image[self.rG_channel], mask=np.invert(mask))\n",
    "            sg_median = np.ma.median(rg_sg_mask)\n",
    "            if sg_median<sig_noise_requirement*self.rG_background: continue\n",
    "            dilation = ndi.morphology.binary_dilation(mask, iterations=iterations) # might have to adjust iterations\n",
    "            outline = np.logical_xor(dilation, mask)\n",
    "#            rg_sg_mask = np.ma.array(self.image[self.rG_channel], mask=np.invert(mask))\n",
    "            rg_outline_mask = np.ma.array(self.image[self.rG_channel], mask=np.invert(outline))\n",
    "#            sg_median = np.ma.median(rg_sg_mask)\n",
    "            outline_median = np.ma.median(rg_outline_mask)\n",
    "            if (sg_median<sig_noise_requirement*self.rG_background) or (outline_median<sig_noise_requirement*self.rG_background): continue\n",
    "            self.ratios.append(sg_median/outline_median)\n",
    "        \n",
    "        print(\"found {} loaded particles. \\n Average Ratio: {}\".format(len(self.ratios), np.mean(self.ratios)))"
   ]
  },
  {
   "cell_type": "code",
   "execution_count": 147,
   "metadata": {},
   "outputs": [],
   "source": [
    "test = SgFinder('./20180831_A1_5.nd2', 82)\n",
    "test.median_filter(1)"
   ]
  },
  {
   "cell_type": "code",
   "execution_count": 148,
   "metadata": {},
   "outputs": [
    {
     "data": {
      "application/vnd.jupyter.widget-view+json": {
       "model_id": "57a23668308d4268a68b4af0d6505a90",
       "version_major": 2,
       "version_minor": 0
      },
      "text/plain": [
       "interactive(children=(IntSlider(value=0, description='threshold_value', max=3000, step=10), Output()), _dom_cl…"
      ]
     },
     "metadata": {},
     "output_type": "display_data"
    }
   ],
   "source": [
    "test.setHaloThreshold()"
   ]
  },
  {
   "cell_type": "code",
   "execution_count": 149,
   "metadata": {},
   "outputs": [
    {
     "name": "stdout",
     "output_type": "stream",
     "text": [
      "found 42 loaded particles. \n",
      " Average Ratio: 1.310614543864754\n"
     ]
    }
   ],
   "source": [
    "test.dilate_and_ratio()"
   ]
  },
  {
   "cell_type": "code",
   "execution_count": 151,
   "metadata": {},
   "outputs": [
    {
     "data": {
      "application/vnd.jupyter.widget-view+json": {
       "model_id": "191d445c1dd142dc9f8a0e2ea17712b7",
       "version_major": 2,
       "version_minor": 0
      },
      "text/plain": [
       "interactive(children=(IntSlider(value=700, description='threshold_value', max=3000, step=10), Output()), _dom_…"
      ]
     },
     "metadata": {},
     "output_type": "display_data"
    }
   ],
   "source": [
    "testneg = SgFinder('./20180831_neg1_6_2.nd2', 36)\n",
    "testneg.median_filter(1)\n",
    "testneg.setHaloThreshold(threshold=700)"
   ]
  },
  {
   "cell_type": "code",
   "execution_count": 152,
   "metadata": {},
   "outputs": [
    {
     "name": "stdout",
     "output_type": "stream",
     "text": [
      "found 45 loaded particles. \n",
      " Average Ratio: 1.157799009828825\n"
     ]
    }
   ],
   "source": [
    "testneg.dilate_and_ratio()"
   ]
  },
  {
   "cell_type": "code",
   "execution_count": 62,
   "metadata": {},
   "outputs": [],
   "source": [
    "test_tiff = SgFinder('20180917_A_Cy_large1_crop.tif', 34, rG_channel=2, haloTag_channel=1)"
   ]
  },
  {
   "cell_type": "code",
   "execution_count": 63,
   "metadata": {},
   "outputs": [
    {
     "data": {
      "application/vnd.jupyter.widget-view+json": {
       "model_id": "69a84e93e3814ba0a83c8d1835da7a8a",
       "version_major": 2,
       "version_minor": 0
      },
      "text/plain": [
       "interactive(children=(IntSlider(value=0, description='threshold_value', max=3000, step=10), Output()), _dom_cl…"
      ]
     },
     "metadata": {},
     "output_type": "display_data"
    }
   ],
   "source": [
    "test_tiff.setHaloThreshold()"
   ]
  },
  {
   "cell_type": "code",
   "execution_count": 64,
   "metadata": {},
   "outputs": [
    {
     "name": "stdout",
     "output_type": "stream",
     "text": [
      "found 38 loaded particles. \n",
      " Average Ratio: 1.360826289098006\n"
     ]
    }
   ],
   "source": [
    "test_tiff.dilate_and_ratio()"
   ]
  },
  {
   "cell_type": "code",
   "execution_count": 137,
   "metadata": {},
   "outputs": [],
   "source": [
    "test_large = SgFinder('20180917_A_Cy_large1.tif', rG_background=34, rG_channel=2, haloTag_channel=1)\n",
    "test_large.median_filter(2)"
   ]
  },
  {
   "cell_type": "code",
   "execution_count": 138,
   "metadata": {},
   "outputs": [
    {
     "data": {
      "application/vnd.jupyter.widget-view+json": {
       "model_id": "7af985d573b0454cbb2a16c62dd6b002",
       "version_major": 2,
       "version_minor": 0
      },
      "text/plain": [
       "interactive(children=(IntSlider(value=470, description='threshold_value', max=3000, step=10), Output()), _dom_…"
      ]
     },
     "metadata": {},
     "output_type": "display_data"
    }
   ],
   "source": [
    "test_large.setHaloThreshold(threshold=470)\n",
    "#test_large.setHaloThreshold()"
   ]
  },
  {
   "cell_type": "code",
   "execution_count": 139,
   "metadata": {},
   "outputs": [
    {
     "name": "stdout",
     "output_type": "stream",
     "text": [
      "found 68 loaded particles. \n",
      " Average Ratio: 1.4572437466299828\n"
     ]
    }
   ],
   "source": [
    "test_large.dilate_and_ratio()"
   ]
  },
  {
   "cell_type": "code",
   "execution_count": 140,
   "metadata": {},
   "outputs": [],
   "source": [
    "test_neg_large = SgFinder('20180917_neg_Cy_large4t.tif', 25, rG_channel=2, haloTag_channel=1)"
   ]
  },
  {
   "cell_type": "code",
   "execution_count": 141,
   "metadata": {},
   "outputs": [],
   "source": [
    "test_neg_large.median_filter(2)"
   ]
  },
  {
   "cell_type": "code",
   "execution_count": 145,
   "metadata": {},
   "outputs": [
    {
     "data": {
      "application/vnd.jupyter.widget-view+json": {
       "model_id": "d22be8a32c5043208b3edadd74f4d14d",
       "version_major": 2,
       "version_minor": 0
      },
      "text/plain": [
       "interactive(children=(IntSlider(value=1000, description='threshold_value', max=3000, step=10), Output()), _dom…"
      ]
     },
     "metadata": {},
     "output_type": "display_data"
    }
   ],
   "source": [
    "test_neg_large.setHaloThreshold(threshold=1000)"
   ]
  },
  {
   "cell_type": "code",
   "execution_count": 146,
   "metadata": {},
   "outputs": [
    {
     "name": "stdout",
     "output_type": "stream",
     "text": [
      "found 98 loaded particles. \n",
      " Average Ratio: 1.0768230398915097\n"
     ]
    }
   ],
   "source": [
    "test_neg_large.dilate_and_ratio()"
   ]
  },
  {
   "cell_type": "code",
   "execution_count": null,
   "metadata": {},
   "outputs": [],
   "source": []
  }
 ],
 "metadata": {
  "anaconda-cloud": {},
  "kernelspec": {
   "display_name": "Python [conda env:anaconda]",
   "language": "python",
   "name": "conda-env-anaconda-py"
  },
  "language_info": {
   "codemirror_mode": {
    "name": "ipython",
    "version": 3
   },
   "file_extension": ".py",
   "mimetype": "text/x-python",
   "name": "python",
   "nbconvert_exporter": "python",
   "pygments_lexer": "ipython3",
   "version": "3.5.5"
  }
 },
 "nbformat": 4,
 "nbformat_minor": 2
}
