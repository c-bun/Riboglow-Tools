{
 "cells": [
  {
   "cell_type": "code",
   "execution_count": 1,
   "metadata": {},
   "outputs": [],
   "source": [
    "from nd2reader import ND2Reader\n",
    "%matplotlib inline\n",
    "from ipywidgets import interact, widgets\n",
    "import matplotlib.pyplot as plt\n",
    "from scipy import ndimage as ndi\n",
    "import numpy as np"
   ]
  },
  {
   "cell_type": "code",
   "execution_count": 47,
   "metadata": {},
   "outputs": [
    {
     "data": {
      "application/vnd.jupyter.widget-view+json": {
       "model_id": "cf3754c9c6fd43eea50e5b61493d2a80",
       "version_major": 2,
       "version_minor": 0
      },
      "text/plain": [
       "interactive(children=(IntSlider(value=0, description='threshold_value', max=1000, step=10), Output()), _dom_cl…"
      ]
     },
     "metadata": {},
     "output_type": "display_data"
    },
    {
     "data": {
      "text/plain": [
       "<function __main__.t(threshold_value)>"
      ]
     },
     "execution_count": 47,
     "metadata": {},
     "output_type": "execute_result"
    }
   ],
   "source": [
    "images = ND2Reader('./20180831_A1_5.nd2')\n",
    "background = 82\n",
    "nucleii = images[0]\n",
    "riboglow = images[1]\n",
    "halotag = images[2]\n",
    "\n",
    "def t(threshold_value):\n",
    "    t_img = halotag > threshold_value\n",
    "    plt.imshow(t_img)\n",
    "    plt.show()\n",
    "\n",
    "slider = widgets.IntSlider(min=0, max=1000, step=10, value=0)\n",
    "interact(t, threshold_value=slider)"
   ]
  },
  {
   "cell_type": "code",
   "execution_count": 53,
   "metadata": {},
   "outputs": [
    {
     "name": "stdout",
     "output_type": "stream",
     "text": [
      "found 103\n"
     ]
    }
   ],
   "source": [
    "#labeled_sg, count = ndi.label(halotag>slider.value)\n",
    "labeled_sg, count = ndi.label(halotag>900)\n",
    "\n",
    "print(\"found {}\".format(count))"
   ]
  },
  {
   "cell_type": "code",
   "execution_count": 54,
   "metadata": {},
   "outputs": [],
   "source": [
    "# For each label:\n",
    "# Dilate and xor to obtain pixels around\n",
    "# apply mask to the Riboglow channel\n",
    "# get the median of each mask\n",
    "# make sure that the cell is bead loaded\n",
    "# get the ratio\n",
    "\n",
    "ratios = []\n",
    "\n",
    "for label in range(1,count):\n",
    "    mask = labeled_sg==label\n",
    "    dilation = ndi.morphology.binary_dilation(mask, iterations=3) # might have to adjust iterations\n",
    "    outline = np.logical_xor(dilation,mask)\n",
    "    rg_sg_mask = np.ma.array(riboglow, mask=np.invert(mask))\n",
    "    rg_outline_mask = np.ma.array(riboglow, mask=np.invert(outline))\n",
    "    sg_median = np.ma.median(rg_sg_mask)\n",
    "    outline_median = np.ma.median(rg_outline_mask)\n",
    "    if (sg_median<3*background) or (outline_median<3*background): continue\n",
    "    ratios.append(sg_median/outline_median)"
   ]
  },
  {
   "cell_type": "code",
   "execution_count": 55,
   "metadata": {},
   "outputs": [
    {
     "name": "stdout",
     "output_type": "stream",
     "text": [
      "71\n",
      "1.2173601099263234\n"
     ]
    }
   ],
   "source": [
    "print(len(ratios))\n",
    "print(np.mean(ratios))"
   ]
  },
  {
   "cell_type": "markdown",
   "metadata": {},
   "source": [
    "cool. now look at a negative control"
   ]
  },
  {
   "cell_type": "code",
   "execution_count": 67,
   "metadata": {},
   "outputs": [
    {
     "data": {
      "application/vnd.jupyter.widget-view+json": {
       "model_id": "79d7a018d87a4b5fa71e93186946f937",
       "version_major": 2,
       "version_minor": 0
      },
      "text/plain": [
       "interactive(children=(IntSlider(value=0, description='threshold_value', max=1000, step=10), Output()), _dom_cl…"
      ]
     },
     "metadata": {},
     "output_type": "display_data"
    },
    {
     "data": {
      "text/plain": [
       "<function __main__.t(threshold_value)>"
      ]
     },
     "execution_count": 67,
     "metadata": {},
     "output_type": "execute_result"
    }
   ],
   "source": [
    "images = ND2Reader('./20180831_neg1_6_2.nd2')\n",
    "background = 36\n",
    "nucleii = images[0]\n",
    "riboglow = images[1]\n",
    "halotag = images[2]\n",
    "\n",
    "def t(threshold_value):\n",
    "    t_img = halotag > threshold_value\n",
    "    plt.imshow(t_img)\n",
    "    plt.show()\n",
    "\n",
    "slider = widgets.IntSlider(min=0, max=1000, step=10, value=0)\n",
    "interact(t, threshold_value=slider)"
   ]
  },
  {
   "cell_type": "code",
   "execution_count": 68,
   "metadata": {},
   "outputs": [
    {
     "name": "stdout",
     "output_type": "stream",
     "text": [
      "found 64\n"
     ]
    }
   ],
   "source": [
    "#labeled_sg, count = ndi.label(halotag>slider.value)\n",
    "labeled_sg, count = ndi.label(halotag>700)\n",
    "\n",
    "print(\"found {}\".format(count))"
   ]
  },
  {
   "cell_type": "code",
   "execution_count": 69,
   "metadata": {},
   "outputs": [],
   "source": [
    "# For each label:\n",
    "# Dilate and xor to obtain pixels around\n",
    "# apply mask to the Riboglow channel\n",
    "# get the median of each mask\n",
    "# make sure that the cell is bead loaded\n",
    "# get the ratio\n",
    "\n",
    "ratios_neg = []\n",
    "\n",
    "for label in range(1,count):\n",
    "    mask = labeled_sg==label\n",
    "    dilation = ndi.morphology.binary_dilation(mask, iterations=3) # might have to adjust iterations\n",
    "    outline = np.logical_xor(dilation,mask)\n",
    "    rg_sg_mask = np.ma.array(riboglow, mask=np.invert(mask))\n",
    "    rg_outline_mask = np.ma.array(riboglow, mask=np.invert(outline))\n",
    "    sg_median = np.ma.median(rg_sg_mask)\n",
    "    outline_median = np.ma.median(rg_outline_mask)\n",
    "    if (sg_median<3*background) or (outline_median<3*background): continue\n",
    "    ratios_neg.append(sg_median/outline_median)"
   ]
  },
  {
   "cell_type": "code",
   "execution_count": 70,
   "metadata": {},
   "outputs": [
    {
     "name": "stdout",
     "output_type": "stream",
     "text": [
      "45\n",
      "1.157799009828825\n"
     ]
    }
   ],
   "source": [
    "print(len(ratios_neg))\n",
    "print(np.mean(ratios_neg))"
   ]
  },
  {
   "cell_type": "code",
   "execution_count": 71,
   "metadata": {},
   "outputs": [],
   "source": [
    "# from profile_tools.py\n",
    "import seaborn as sn\n",
    "\n",
    "def boxplot(df):\n",
    "        ax = sn.stripplot(data=df,y='ratio',x='condition',jitter=True)\n",
    "        return sn.boxplot(data=df,y='ratio',x='condition',ax=ax,color='w',fliersize=0)"
   ]
  },
  {
   "cell_type": "code",
   "execution_count": 72,
   "metadata": {},
   "outputs": [],
   "source": [
    "import pandas as pd\n",
    "\n",
    "ratio_col = ratios+ratios_neg\n",
    "condition_col = ['pos' for element in ratios]+['neg' for element in ratios_neg]\n",
    "\n",
    "df = pd.DataFrame({'ratio':ratio_col,'condition':condition_col})"
   ]
  },
  {
   "cell_type": "code",
   "execution_count": 73,
   "metadata": {},
   "outputs": [
    {
     "data": {
      "text/plain": [
       "<matplotlib.axes._subplots.AxesSubplot at 0x1c25060b00>"
      ]
     },
     "execution_count": 73,
     "metadata": {},
     "output_type": "execute_result"
    },
    {
     "data": {
      "image/png": "[encoded data removed]",
      "text/plain": [
       "<Figure size 432x288 with 1 Axes>"
      ]
     },
     "metadata": {},
     "output_type": "display_data"
    }
   ],
   "source": [
    "boxplot(df)"
   ]
  },
  {
   "cell_type": "markdown",
   "metadata": {},
   "source": [
    "Needed to add some lines that verified that the cell was actually loaded with probe. Could I use this on the large images? would that only require one background?"
   ]
  },
  {
   "cell_type": "markdown",
   "metadata": {},
   "source": [
    "Worth also going in the other direction to look at false positives? Threshold the riboglow channel and look for resolution in the halotag channel? Or just use pearssons?"
   ]
  },
  {
   "cell_type": "code",
   "execution_count": 74,
   "metadata": {},
   "outputs": [],
   "source": [
    "def find_threshold(img, halochannel=2):\n",
    "    halotag = img[halochannel]\n",
    "\n",
    "    def t(threshold_value):\n",
    "        t_img = halotag > threshold_value\n",
    "        plt.imshow(t_img)\n",
    "        plt.show()\n",
    "\n",
    "    slider = widgets.IntSlider(min=0, max=1000, step=10, value=0)\n",
    "    interact(t, threshold_value=slider)\n",
    "    return slider.value"
   ]
  },
  {
   "cell_type": "code",
   "execution_count": null,
   "metadata": {},
   "outputs": [],
   "source": [
    "def find_granules(img, threshold):\n",
    "    labeled_sg, count = ndi.label(halotag>700)\n",
    "    print(\"found {}\".format(count))"
   ]
  }
 ],
 "metadata": {
  "kernelspec": {
   "display_name": "Python [conda env:anaconda]",
   "language": "python",
   "name": "conda-env-anaconda-py"
  },
  "language_info": {
   "codemirror_mode": {
    "name": "ipython",
    "version": 3
   },
   "file_extension": ".py",
   "mimetype": "text/x-python",
   "name": "python",
   "nbconvert_exporter": "python",
   "pygments_lexer": "ipython3",
   "version": "3.5.5"
  }
 },
 "nbformat": 4,
 "nbformat_minor": 2
}
